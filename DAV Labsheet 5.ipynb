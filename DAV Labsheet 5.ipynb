{
 "cells": [
  {
   "cell_type": "markdown",
   "metadata": {},
   "source": [
    "Creating a Dataframe"
   ]
  },
  {
   "cell_type": "code",
   "execution_count": 5,
   "metadata": {},
   "outputs": [
    {
     "name": "stdout",
     "output_type": "stream",
     "text": [
      "        one       two     three\n",
      "a -1.201942  0.117287 -0.775992\n",
      "b       NaN       NaN       NaN\n",
      "c -0.483620  1.236122 -1.609785\n",
      "d       NaN       NaN       NaN\n",
      "e -0.512663 -2.134925 -0.359522\n",
      "f -1.873000  2.362291 -1.811144\n",
      "g       NaN       NaN       NaN\n",
      "h  0.743832 -0.035922  0.092255\n"
     ]
    }
   ],
   "source": [
    "import pandas as pd\n",
    "import numpy as np\n",
    "df=pd.DataFrame(np.random.randn(5,3),index=['a','c','e','f','h'],columns=['one','two','three'])\n",
    "df=df.reindex(['a','b','c','d','e','f','g','h'])                                                                  \n",
    "print(df)                                                                        "
   ]
  }
 ],
 "metadata": {
  "kernelspec": {
   "display_name": "Python 3",
   "language": "python",
   "name": "python3"
  },
  "language_info": {
   "codemirror_mode": {
    "name": "ipython",
    "version": 3
   },
   "file_extension": ".py",
   "mimetype": "text/x-python",
   "name": "python",
   "nbconvert_exporter": "python",
   "pygments_lexer": "ipython3",
   "version": "3.10.8"
  }
 },
 "nbformat": 4,
 "nbformat_minor": 2
}
