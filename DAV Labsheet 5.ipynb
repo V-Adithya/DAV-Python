{
 "cells": [
  {
   "cell_type": "markdown",
   "metadata": {},
   "source": [
    "Creating a Dataframe"
   ]
  },
  {
   "cell_type": "code",
   "execution_count": 11,
   "metadata": {},
   "outputs": [
    {
     "name": "stdout",
     "output_type": "stream",
     "text": [
      "        one       two     three\n",
      "a  0.505172 -0.103722 -0.313546\n",
      "c -2.418510  0.769817 -2.034491\n",
      "e -0.379981  0.413148 -1.624768\n",
      "f  0.355940 -0.325488  0.800168\n",
      "h  0.515453  1.266986 -1.759798\n"
     ]
    }
   ],
   "source": [
    "import pandas as pd\n",
    "import numpy as np\n",
    "df=pd.DataFrame(np.random.randn(5,3),index=['a','c','e','f','h'],columns=['one','two','three'])\n",
    "df1=df.reindex(['a','b','c','d','e','f','g','h'])                                                                  \n",
    "print(df)                                                                        "
   ]
  },
  {
   "cell_type": "code",
   "execution_count": 12,
   "metadata": {},
   "outputs": [
    {
     "name": "stdout",
     "output_type": "stream",
     "text": [
      "<bound method Series.isnull of a    0.505172\n",
      "c   -2.418510\n",
      "e   -0.379981\n",
      "f    0.355940\n",
      "h    0.515453\n",
      "Name: one, dtype: float64>\n"
     ]
    }
   ],
   "source": [
    "print(df['one'].isnull)"
   ]
  },
  {
   "cell_type": "code",
   "execution_count": 13,
   "metadata": {},
   "outputs": [
    {
     "name": "stdout",
     "output_type": "stream",
     "text": [
      "a    False\n",
      "b     True\n",
      "c    False\n",
      "d     True\n",
      "e    False\n",
      "f    False\n",
      "g     True\n",
      "h    False\n",
      "Name: one, dtype: bool\n",
      "a    False\n",
      "b     True\n",
      "c    False\n",
      "d     True\n",
      "e    False\n",
      "f    False\n",
      "g     True\n",
      "h    False\n",
      "Name: two, dtype: bool\n",
      "a    False\n",
      "b     True\n",
      "c    False\n",
      "d     True\n",
      "e    False\n",
      "f    False\n",
      "g     True\n",
      "h    False\n",
      "Name: three, dtype: bool\n"
     ]
    }
   ],
   "source": [
    "print(df1['one'].isnull())\n",
    "print(df1['two'].isnull())\n",
    "print(df1['three'].isnull())"
   ]
  },
  {
   "cell_type": "code",
   "execution_count": 14,
   "metadata": {},
   "outputs": [
    {
     "name": "stdout",
     "output_type": "stream",
     "text": [
      "        one       two     three\n",
      "a  0.505172 -0.103722 -0.313546\n",
      "b       NaN       NaN       NaN\n",
      "c -2.418510  0.769817 -2.034491\n",
      "d       NaN       NaN       NaN\n",
      "e -0.379981  0.413148 -1.624768\n",
      "f  0.355940 -0.325488  0.800168\n",
      "g       NaN       NaN       NaN\n",
      "h  0.515453  1.266986 -1.759798\n",
      "\n",
      "\n",
      "NaN is replaced with 0\n",
      "        one       two     three\n",
      "a  0.505172 -0.103722 -0.313546\n",
      "b  0.000000  0.000000  0.000000\n",
      "c -2.418510  0.769817 -2.034491\n",
      "d  0.000000  0.000000  0.000000\n",
      "e -0.379981  0.413148 -1.624768\n",
      "f  0.355940 -0.325488  0.800168\n",
      "g  0.000000  0.000000  0.000000\n",
      "h  0.515453  1.266986 -1.759798\n"
     ]
    }
   ],
   "source": [
    "print(df1)\n",
    "print(\"\\n\\nNaN is replaced with 0\")\n",
    "print(df1.fillna(0))"
   ]
  },
  {
   "cell_type": "code",
   "execution_count": 15,
   "metadata": {},
   "outputs": [
    {
     "name": "stdout",
     "output_type": "stream",
     "text": [
      "Before Filling\n",
      "        one       two     three\n",
      "a  0.505172 -0.103722 -0.313546\n",
      "b       NaN       NaN       NaN\n",
      "c -2.418510  0.769817 -2.034491\n",
      "d       NaN       NaN       NaN\n",
      "e -0.379981  0.413148 -1.624768\n",
      "f  0.355940 -0.325488  0.800168\n",
      "g       NaN       NaN       NaN\n",
      "h  0.515453  1.266986 -1.759798\n",
      "\n",
      "\n",
      "After filling missing using pad/forward imputation techniques\n",
      "        one       two     three\n",
      "a  0.505172 -0.103722 -0.313546\n",
      "b  0.505172 -0.103722 -0.313546\n",
      "c -2.418510  0.769817 -2.034491\n",
      "d -2.418510  0.769817 -2.034491\n",
      "e -0.379981  0.413148 -1.624768\n",
      "f  0.355940 -0.325488  0.800168\n",
      "g  0.355940 -0.325488  0.800168\n",
      "h  0.515453  1.266986 -1.759798\n"
     ]
    }
   ],
   "source": [
    "print(\"Before Filling\")\n",
    "print(df1)\n",
    "print(\"\\n\\nAfter filling missing using pad/forward imputation techniques\")\n",
    "print(df1.fillna(method='pad'))"
   ]
  },
  {
   "cell_type": "code",
   "execution_count": 16,
   "metadata": {},
   "outputs": [
    {
     "name": "stdout",
     "output_type": "stream",
     "text": [
      "Before Filling\n",
      "        one       two     three\n",
      "a  0.505172 -0.103722 -0.313546\n",
      "b       NaN       NaN       NaN\n",
      "c -2.418510  0.769817 -2.034491\n",
      "d       NaN       NaN       NaN\n",
      "e -0.379981  0.413148 -1.624768\n",
      "f  0.355940 -0.325488  0.800168\n",
      "g       NaN       NaN       NaN\n",
      "h  0.515453  1.266986 -1.759798\n",
      "\n",
      "\n",
      "After filling missing using backward imputation techniques\n",
      "        one       two     three\n",
      "a  0.505172 -0.103722 -0.313546\n",
      "b -2.418510  0.769817 -2.034491\n",
      "c -2.418510  0.769817 -2.034491\n",
      "d -0.379981  0.413148 -1.624768\n",
      "e -0.379981  0.413148 -1.624768\n",
      "f  0.355940 -0.325488  0.800168\n",
      "g  0.515453  1.266986 -1.759798\n",
      "h  0.515453  1.266986 -1.759798\n"
     ]
    }
   ],
   "source": [
    "print(\"Before Filling\")\n",
    "print(df1)\n",
    "print(\"\\n\\nAfter filling missing using backward imputation techniques\")\n",
    "print(df1.fillna(method='bfill'))"
   ]
  },
  {
   "cell_type": "code",
   "execution_count": 17,
   "metadata": {},
   "outputs": [
    {
     "name": "stdout",
     "output_type": "stream",
     "text": [
      "Before Dropping\n",
      "        one       two     three\n",
      "a  0.505172 -0.103722 -0.313546\n",
      "b       NaN       NaN       NaN\n",
      "c -2.418510  0.769817 -2.034491\n",
      "d       NaN       NaN       NaN\n",
      "e -0.379981  0.413148 -1.624768\n",
      "f  0.355940 -0.325488  0.800168\n",
      "g       NaN       NaN       NaN\n",
      "h  0.515453  1.266986 -1.759798\n",
      "\n",
      "\n",
      "After dropping missing using backward imputation techniques\n",
      "        one       two     three\n",
      "a  0.505172 -0.103722 -0.313546\n",
      "b -2.418510  0.769817 -2.034491\n",
      "c -2.418510  0.769817 -2.034491\n",
      "d -0.379981  0.413148 -1.624768\n",
      "e -0.379981  0.413148 -1.624768\n",
      "f  0.355940 -0.325488  0.800168\n",
      "g  0.515453  1.266986 -1.759798\n",
      "h  0.515453  1.266986 -1.759798\n"
     ]
    }
   ],
   "source": [
    "print(\"Before Dropping\")\n",
    "print(df1)\n",
    "print(\"\\n\\nAfter dropping missing using backward imputation techniques\")\n",
    "print(df1.fillna(method='bfill'))"
   ]
  },
  {
   "cell_type": "code",
   "execution_count": 18,
   "metadata": {},
   "outputs": [
    {
     "name": "stdout",
     "output_type": "stream",
     "text": [
      "    one   two\n",
      "0    10  1000\n",
      "1    20     0\n",
      "2    30    30\n",
      "3    40    40\n",
      "4    50    50\n",
      "5  2000    60\n",
      "   one  two\n",
      "0   10   10\n",
      "1   20    0\n",
      "2   30   30\n",
      "3   40   40\n",
      "4   50   50\n",
      "5   60   60\n"
     ]
    }
   ],
   "source": [
    "df=pd.DataFrame({'one':[10,20,30,40,50,2000],'two':[1000,0,30,40,50,60]})\n",
    "print(df)\n",
    "print(df.replace({1000:10,2000:60}))"
   ]
  },
  {
   "cell_type": "code",
   "execution_count": null,
   "metadata": {},
   "outputs": [],
   "source": []
  }
 ],
 "metadata": {
  "kernelspec": {
   "display_name": "Python 3",
   "language": "python",
   "name": "python3"
  },
  "language_info": {
   "codemirror_mode": {
    "name": "ipython",
    "version": 3
   },
   "file_extension": ".py",
   "mimetype": "text/x-python",
   "name": "python",
   "nbconvert_exporter": "python",
   "pygments_lexer": "ipython3",
   "version": "3.10.8"
  }
 },
 "nbformat": 4,
 "nbformat_minor": 2
}
