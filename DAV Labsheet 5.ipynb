{
 "cells": [
  {
   "cell_type": "markdown",
   "metadata": {},
   "source": [
    "Creating a Dataframe"
   ]
  },
  {
   "cell_type": "code",
   "execution_count": 7,
   "metadata": {},
   "outputs": [
    {
     "name": "stdout",
     "output_type": "stream",
     "text": [
      "        one       two     three\n",
      "a  1.408039 -0.081501  0.622199\n",
      "b       NaN       NaN       NaN\n",
      "c  0.488398 -0.714810 -0.660945\n",
      "d       NaN       NaN       NaN\n",
      "e -2.404422  1.431966  1.969845\n",
      "f -1.230851 -1.125800 -2.740350\n",
      "g       NaN       NaN       NaN\n",
      "h -1.344055  0.725630 -1.131077\n"
     ]
    }
   ],
   "source": [
    "import pandas as pd\n",
    "import numpy as np\n",
    "df=pd.DataFrame(np.random.randn(5,3),index=['a','c','e','f','h'],columns=['one','two','three'])\n",
    "df=df.reindex(['a','b','c','d','e','f','g','h'])                                                                  \n",
    "print(df)                                                                        "
   ]
  }
 ],
 "metadata": {
  "kernelspec": {
   "display_name": "Python 3",
   "language": "python",
   "name": "python3"
  },
  "language_info": {
   "codemirror_mode": {
    "name": "ipython",
    "version": 3
   },
   "file_extension": ".py",
   "mimetype": "text/x-python",
   "name": "python",
   "nbconvert_exporter": "python",
   "pygments_lexer": "ipython3",
   "version": "3.10.8"
  }
 },
 "nbformat": 4,
 "nbformat_minor": 2
}
