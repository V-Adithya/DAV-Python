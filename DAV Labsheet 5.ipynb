{
 "cells": [
  {
   "cell_type": "markdown",
   "metadata": {},
   "source": [
    "Creating a Dataframe"
   ]
  },
  {
   "cell_type": "code",
   "execution_count": 2,
   "metadata": {},
   "outputs": [
    {
     "name": "stdout",
     "output_type": "stream",
     "text": [
      "        one       two     three\n",
      "a  0.266318  0.316541  1.253962\n",
      "c  0.396141  0.316400  1.742046\n",
      "e -0.573395 -0.392569 -0.076829\n",
      "f -0.668761  0.571656 -0.048191\n",
      "h  0.179065 -0.858368 -1.238603\n"
     ]
    }
   ],
   "source": [
    "import pandas as pd\n",
    "import numpy as np\n",
    "df=pd.DataFrame(np.random.randn(5,3),index=['a','c','e','f','h'],columns=['one','two','three'])\n",
    "df1=df.reindex(['a','b','c','d','e','f','g','h'])                                                                  \n",
    "print(df)                                                                        "
   ]
  },
  {
   "cell_type": "code",
   "execution_count": 3,
   "metadata": {},
   "outputs": [
    {
     "name": "stdout",
     "output_type": "stream",
     "text": [
      "<bound method Series.isnull of a    0.266318\n",
      "c    0.396141\n",
      "e   -0.573395\n",
      "f   -0.668761\n",
      "h    0.179065\n",
      "Name: one, dtype: float64>\n"
     ]
    }
   ],
   "source": [
    "print(df['one'].isnull)"
   ]
  },
  {
   "cell_type": "code",
   "execution_count": 4,
   "metadata": {},
   "outputs": [
    {
     "name": "stdout",
     "output_type": "stream",
     "text": [
      "a    False\n",
      "b     True\n",
      "c    False\n",
      "d     True\n",
      "e    False\n",
      "f    False\n",
      "g     True\n",
      "h    False\n",
      "Name: one, dtype: bool\n",
      "a    False\n",
      "b     True\n",
      "c    False\n",
      "d     True\n",
      "e    False\n",
      "f    False\n",
      "g     True\n",
      "h    False\n",
      "Name: two, dtype: bool\n",
      "a    False\n",
      "b     True\n",
      "c    False\n",
      "d     True\n",
      "e    False\n",
      "f    False\n",
      "g     True\n",
      "h    False\n",
      "Name: three, dtype: bool\n"
     ]
    }
   ],
   "source": [
    "print(df1['one'].isnull())\n",
    "print(df1['two'].isnull())\n",
    "print(df1['three'].isnull())"
   ]
  },
  {
   "cell_type": "code",
   "execution_count": 5,
   "metadata": {},
   "outputs": [
    {
     "name": "stdout",
     "output_type": "stream",
     "text": [
      "        one       two     three\n",
      "a  0.266318  0.316541  1.253962\n",
      "b       NaN       NaN       NaN\n",
      "c  0.396141  0.316400  1.742046\n",
      "d       NaN       NaN       NaN\n",
      "e -0.573395 -0.392569 -0.076829\n",
      "f -0.668761  0.571656 -0.048191\n",
      "g       NaN       NaN       NaN\n",
      "h  0.179065 -0.858368 -1.238603\n",
      "\n",
      "\n",
      "NaN is replaced with 0\n",
      "        one       two     three\n",
      "a  0.266318  0.316541  1.253962\n",
      "b  0.000000  0.000000  0.000000\n",
      "c  0.396141  0.316400  1.742046\n",
      "d  0.000000  0.000000  0.000000\n",
      "e -0.573395 -0.392569 -0.076829\n",
      "f -0.668761  0.571656 -0.048191\n",
      "g  0.000000  0.000000  0.000000\n",
      "h  0.179065 -0.858368 -1.238603\n"
     ]
    }
   ],
   "source": [
    "print(df1)\n",
    "print(\"\\n\\nNaN is replaced with 0\")\n",
    "print(df1.fillna(0))"
   ]
  },
  {
   "cell_type": "code",
   "execution_count": 8,
   "metadata": {},
   "outputs": [
    {
     "name": "stdout",
     "output_type": "stream",
     "text": [
      "Before Filling\n",
      "        one       two     three\n",
      "a  0.266318  0.316541  1.253962\n",
      "b       NaN       NaN       NaN\n",
      "c  0.396141  0.316400  1.742046\n",
      "d       NaN       NaN       NaN\n",
      "e -0.573395 -0.392569 -0.076829\n",
      "f -0.668761  0.571656 -0.048191\n",
      "g       NaN       NaN       NaN\n",
      "h  0.179065 -0.858368 -1.238603\n",
      "\n",
      "\n",
      "After filling missing using pad/forward imputation techniques\n",
      "        one       two     three\n",
      "a  0.266318  0.316541  1.253962\n",
      "b  0.266318  0.316541  1.253962\n",
      "c  0.396141  0.316400  1.742046\n",
      "d  0.396141  0.316400  1.742046\n",
      "e -0.573395 -0.392569 -0.076829\n",
      "f -0.668761  0.571656 -0.048191\n",
      "g -0.668761  0.571656 -0.048191\n",
      "h  0.179065 -0.858368 -1.238603\n"
     ]
    }
   ],
   "source": [
    "print(\"Before Filling\")\n",
    "print(df1)\n",
    "print(\"\\n\\nAfter filling missing using pad/forward imputation techniques\")\n",
    "print(df1.fillna(method='pad'))"
   ]
  },
  {
   "cell_type": "code",
   "execution_count": 9,
   "metadata": {},
   "outputs": [
    {
     "name": "stdout",
     "output_type": "stream",
     "text": [
      "Before Filling\n",
      "        one       two     three\n",
      "a  0.266318  0.316541  1.253962\n",
      "b       NaN       NaN       NaN\n",
      "c  0.396141  0.316400  1.742046\n",
      "d       NaN       NaN       NaN\n",
      "e -0.573395 -0.392569 -0.076829\n",
      "f -0.668761  0.571656 -0.048191\n",
      "g       NaN       NaN       NaN\n",
      "h  0.179065 -0.858368 -1.238603\n",
      "\n",
      "\n",
      "After filling missing using pad/forward imputation techniques\n",
      "        one       two     three\n",
      "a  0.266318  0.316541  1.253962\n",
      "b  0.396141  0.316400  1.742046\n",
      "c  0.396141  0.316400  1.742046\n",
      "d -0.573395 -0.392569 -0.076829\n",
      "e -0.573395 -0.392569 -0.076829\n",
      "f -0.668761  0.571656 -0.048191\n",
      "g  0.179065 -0.858368 -1.238603\n",
      "h  0.179065 -0.858368 -1.238603\n"
     ]
    }
   ],
   "source": [
    "print(\"Before Filling\")\n",
    "print(df1)\n",
    "print(\"\\n\\nAfter filling missing using bfill/forward imputation techniques\")\n",
    "print(df1.fillna(method='bfill'))"
   ]
  }
 ],
 "metadata": {
  "kernelspec": {
   "display_name": "Python 3",
   "language": "python",
   "name": "python3"
  },
  "language_info": {
   "codemirror_mode": {
    "name": "ipython",
    "version": 3
   },
   "file_extension": ".py",
   "mimetype": "text/x-python",
   "name": "python",
   "nbconvert_exporter": "python",
   "pygments_lexer": "ipython3",
   "version": "3.10.8"
  }
 },
 "nbformat": 4,
 "nbformat_minor": 2
}
