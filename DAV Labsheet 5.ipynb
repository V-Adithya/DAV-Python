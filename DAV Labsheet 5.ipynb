{
 "cells": [
  {
   "cell_type": "markdown",
   "metadata": {},
   "source": [
    "Creating a Dataframe"
   ]
  },
  {
   "cell_type": "code",
   "execution_count": 11,
   "metadata": {},
   "outputs": [
    {
     "name": "stdout",
     "output_type": "stream",
     "text": [
      "        one       two     three\n",
      "a  0.210630  1.425218 -0.803316\n",
      "c -1.095154 -0.628014 -0.771997\n",
      "e -1.544255 -0.048017  2.075324\n",
      "f  1.156517 -1.458205 -0.089271\n",
      "h -0.587101  1.602928 -0.125251\n"
     ]
    }
   ],
   "source": [
    "import pandas as pd\n",
    "import numpy as np\n",
    "df=pd.DataFrame(np.random.randn(5,3),index=['a','c','e','f','h'],columns=['one','two','three'])\n",
    "df1=df.reindex(['a','b','c','d','e','f','g','h'])                                                                  \n",
    "print(df)                                                                        "
   ]
  },
  {
   "cell_type": "code",
   "execution_count": 12,
   "metadata": {},
   "outputs": [
    {
     "name": "stdout",
     "output_type": "stream",
     "text": [
      "<bound method Series.isnull of a    0.210630\n",
      "c   -1.095154\n",
      "e   -1.544255\n",
      "f    1.156517\n",
      "h   -0.587101\n",
      "Name: one, dtype: float64>\n"
     ]
    }
   ],
   "source": [
    "print(df['one'].isnull)"
   ]
  },
  {
   "cell_type": "code",
   "execution_count": 13,
   "metadata": {},
   "outputs": [
    {
     "name": "stdout",
     "output_type": "stream",
     "text": [
      "a    False\n",
      "b     True\n",
      "c    False\n",
      "d     True\n",
      "e    False\n",
      "f    False\n",
      "g     True\n",
      "h    False\n",
      "Name: one, dtype: bool\n",
      "a    False\n",
      "b     True\n",
      "c    False\n",
      "d     True\n",
      "e    False\n",
      "f    False\n",
      "g     True\n",
      "h    False\n",
      "Name: two, dtype: bool\n",
      "a    False\n",
      "b     True\n",
      "c    False\n",
      "d     True\n",
      "e    False\n",
      "f    False\n",
      "g     True\n",
      "h    False\n",
      "Name: three, dtype: bool\n"
     ]
    }
   ],
   "source": [
    "print(df1['one'].isnull())\n",
    "print(df1['two'].isnull())\n",
    "print(df1['three'].isnull())"
   ]
  },
  {
   "cell_type": "code",
   "execution_count": 14,
   "metadata": {},
   "outputs": [
    {
     "name": "stdout",
     "output_type": "stream",
     "text": [
      "        one       two     three\n",
      "a  0.210630  1.425218 -0.803316\n",
      "b       NaN       NaN       NaN\n",
      "c -1.095154 -0.628014 -0.771997\n",
      "d       NaN       NaN       NaN\n",
      "e -1.544255 -0.048017  2.075324\n",
      "f  1.156517 -1.458205 -0.089271\n",
      "g       NaN       NaN       NaN\n",
      "h -0.587101  1.602928 -0.125251\n",
      "\n",
      "\n",
      "NaN is replaced with 0\n",
      "        one       two     three\n",
      "a  0.210630  1.425218 -0.803316\n",
      "b  0.000000  0.000000  0.000000\n",
      "c -1.095154 -0.628014 -0.771997\n",
      "d  0.000000  0.000000  0.000000\n",
      "e -1.544255 -0.048017  2.075324\n",
      "f  1.156517 -1.458205 -0.089271\n",
      "g  0.000000  0.000000  0.000000\n",
      "h -0.587101  1.602928 -0.125251\n"
     ]
    }
   ],
   "source": [
    "print(df1)\n",
    "print(\"\\n\\nNaN is replaced with 0\")\n",
    "print(df1.fillna(0))"
   ]
  },
  {
   "cell_type": "code",
   "execution_count": 15,
   "metadata": {},
   "outputs": [
    {
     "name": "stdout",
     "output_type": "stream",
     "text": [
      "Before Filling\n",
      "        one       two     three\n",
      "a  0.210630  1.425218 -0.803316\n",
      "b       NaN       NaN       NaN\n",
      "c -1.095154 -0.628014 -0.771997\n",
      "d       NaN       NaN       NaN\n",
      "e -1.544255 -0.048017  2.075324\n",
      "f  1.156517 -1.458205 -0.089271\n",
      "g       NaN       NaN       NaN\n",
      "h -0.587101  1.602928 -0.125251\n",
      "\n",
      "\n",
      "After filling missing using pad/forward imputation techniques\n",
      "        one       two     three\n",
      "a  0.210630  1.425218 -0.803316\n",
      "b  0.210630  1.425218 -0.803316\n",
      "c -1.095154 -0.628014 -0.771997\n",
      "d -1.095154 -0.628014 -0.771997\n",
      "e -1.544255 -0.048017  2.075324\n",
      "f  1.156517 -1.458205 -0.089271\n",
      "g  1.156517 -1.458205 -0.089271\n",
      "h -0.587101  1.602928 -0.125251\n"
     ]
    }
   ],
   "source": [
    "print(\"Before Filling\")\n",
    "print(df1)\n",
    "print(\"\\n\\nAfter filling missing using pad/forward imputation techniques\")\n",
    "print(df1.fillna(method='pad'))"
   ]
  },
  {
   "cell_type": "code",
   "execution_count": 16,
   "metadata": {},
   "outputs": [
    {
     "name": "stdout",
     "output_type": "stream",
     "text": [
      "Before Filling\n",
      "        one       two     three\n",
      "a  0.210630  1.425218 -0.803316\n",
      "b       NaN       NaN       NaN\n",
      "c -1.095154 -0.628014 -0.771997\n",
      "d       NaN       NaN       NaN\n",
      "e -1.544255 -0.048017  2.075324\n",
      "f  1.156517 -1.458205 -0.089271\n",
      "g       NaN       NaN       NaN\n",
      "h -0.587101  1.602928 -0.125251\n",
      "\n",
      "\n",
      "After filling missing using backward imputation techniques\n",
      "        one       two     three\n",
      "a  0.210630  1.425218 -0.803316\n",
      "b -1.095154 -0.628014 -0.771997\n",
      "c -1.095154 -0.628014 -0.771997\n",
      "d -1.544255 -0.048017  2.075324\n",
      "e -1.544255 -0.048017  2.075324\n",
      "f  1.156517 -1.458205 -0.089271\n",
      "g -0.587101  1.602928 -0.125251\n",
      "h -0.587101  1.602928 -0.125251\n"
     ]
    }
   ],
   "source": [
    "print(\"Before Filling\")\n",
    "print(df1)\n",
    "print(\"\\n\\nAfter filling missing using backward imputation techniques\")\n",
    "print(df1.fillna(method='bfill'))"
   ]
  }
 ],
 "metadata": {
  "kernelspec": {
   "display_name": "Python 3",
   "language": "python",
   "name": "python3"
  },
  "language_info": {
   "codemirror_mode": {
    "name": "ipython",
    "version": 3
   },
   "file_extension": ".py",
   "mimetype": "text/x-python",
   "name": "python",
   "nbconvert_exporter": "python",
   "pygments_lexer": "ipython3",
   "version": "3.10.8"
  }
 },
 "nbformat": 4,
 "nbformat_minor": 2
}
