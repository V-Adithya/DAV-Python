{
 "cells": [
  {
   "cell_type": "markdown",
   "metadata": {},
   "source": [
    "Creating a Dataframe"
   ]
  },
  {
   "cell_type": "code",
   "execution_count": 26,
   "metadata": {},
   "outputs": [
    {
     "name": "stdout",
     "output_type": "stream",
     "text": [
      "        one       two     three\n",
      "a  0.368294 -0.347815 -0.475783\n",
      "c -0.095318  0.590802  1.026722\n",
      "e -0.697199  1.215709  0.972456\n",
      "f -1.107671  0.717278 -1.033439\n",
      "h  0.048772  0.471580  0.177901\n"
     ]
    }
   ],
   "source": [
    "import pandas as pd\n",
    "import numpy as np\n",
    "df=pd.DataFrame(np.random.randn(5,3),index=['a','c','e','f','h'],columns=['one','two','three'])\n",
    "df1=df.reindex(['a','b','c','d','e','f','g','h'])                                                                  \n",
    "print(df)                                                                        "
   ]
  },
  {
   "cell_type": "code",
   "execution_count": 27,
   "metadata": {},
   "outputs": [
    {
     "name": "stdout",
     "output_type": "stream",
     "text": [
      "<bound method Series.isnull of a    0.368294\n",
      "c   -0.095318\n",
      "e   -0.697199\n",
      "f   -1.107671\n",
      "h    0.048772\n",
      "Name: one, dtype: float64>\n"
     ]
    }
   ],
   "source": [
    "print(df['one'].isnull)"
   ]
  },
  {
   "cell_type": "code",
   "execution_count": 28,
   "metadata": {},
   "outputs": [
    {
     "name": "stdout",
     "output_type": "stream",
     "text": [
      "a    False\n",
      "b     True\n",
      "c    False\n",
      "d     True\n",
      "e    False\n",
      "f    False\n",
      "g     True\n",
      "h    False\n",
      "Name: one, dtype: bool\n",
      "a    False\n",
      "b     True\n",
      "c    False\n",
      "d     True\n",
      "e    False\n",
      "f    False\n",
      "g     True\n",
      "h    False\n",
      "Name: two, dtype: bool\n",
      "a    False\n",
      "b     True\n",
      "c    False\n",
      "d     True\n",
      "e    False\n",
      "f    False\n",
      "g     True\n",
      "h    False\n",
      "Name: three, dtype: bool\n"
     ]
    }
   ],
   "source": [
    "print(df1['one'].isnull())\n",
    "print(df1['two'].isnull())\n",
    "print(df1['three'].isnull())"
   ]
  },
  {
   "cell_type": "code",
   "execution_count": 29,
   "metadata": {},
   "outputs": [
    {
     "name": "stdout",
     "output_type": "stream",
     "text": [
      "        one       two     three\n",
      "a  0.368294 -0.347815 -0.475783\n",
      "b       NaN       NaN       NaN\n",
      "c -0.095318  0.590802  1.026722\n",
      "d       NaN       NaN       NaN\n",
      "e -0.697199  1.215709  0.972456\n",
      "f -1.107671  0.717278 -1.033439\n",
      "g       NaN       NaN       NaN\n",
      "h  0.048772  0.471580  0.177901\n",
      "\n",
      "\n",
      "NaN is replaced with 0\n",
      "        one       two     three\n",
      "a  0.368294 -0.347815 -0.475783\n",
      "b  0.000000  0.000000  0.000000\n",
      "c -0.095318  0.590802  1.026722\n",
      "d  0.000000  0.000000  0.000000\n",
      "e -0.697199  1.215709  0.972456\n",
      "f -1.107671  0.717278 -1.033439\n",
      "g  0.000000  0.000000  0.000000\n",
      "h  0.048772  0.471580  0.177901\n"
     ]
    }
   ],
   "source": [
    "print(df1)\n",
    "print(\"\\n\\nNaN is replaced with 0\")\n",
    "print(df1.fillna(0))"
   ]
  },
  {
   "cell_type": "code",
   "execution_count": 30,
   "metadata": {},
   "outputs": [
    {
     "name": "stdout",
     "output_type": "stream",
     "text": [
      "Before Filling\n",
      "        one       two     three\n",
      "a  0.368294 -0.347815 -0.475783\n",
      "b       NaN       NaN       NaN\n",
      "c -0.095318  0.590802  1.026722\n",
      "d       NaN       NaN       NaN\n",
      "e -0.697199  1.215709  0.972456\n",
      "f -1.107671  0.717278 -1.033439\n",
      "g       NaN       NaN       NaN\n",
      "h  0.048772  0.471580  0.177901\n",
      "\n",
      "\n",
      "After filling missing using pad/forward imputation techniques\n",
      "        one       two     three\n",
      "a  0.368294 -0.347815 -0.475783\n",
      "b  0.368294 -0.347815 -0.475783\n",
      "c -0.095318  0.590802  1.026722\n",
      "d -0.095318  0.590802  1.026722\n",
      "e -0.697199  1.215709  0.972456\n",
      "f -1.107671  0.717278 -1.033439\n",
      "g -1.107671  0.717278 -1.033439\n",
      "h  0.048772  0.471580  0.177901\n"
     ]
    }
   ],
   "source": [
    "print(\"Before Filling\")\n",
    "print(df1)\n",
    "print(\"\\n\\nAfter filling missing using pad/forward imputation techniques\")\n",
    "print(df1.fillna(method='pad'))"
   ]
  },
  {
   "cell_type": "code",
   "execution_count": 31,
   "metadata": {},
   "outputs": [
    {
     "name": "stdout",
     "output_type": "stream",
     "text": [
      "Before Filling\n",
      "        one       two     three\n",
      "a  0.368294 -0.347815 -0.475783\n",
      "b       NaN       NaN       NaN\n",
      "c -0.095318  0.590802  1.026722\n",
      "d       NaN       NaN       NaN\n",
      "e -0.697199  1.215709  0.972456\n",
      "f -1.107671  0.717278 -1.033439\n",
      "g       NaN       NaN       NaN\n",
      "h  0.048772  0.471580  0.177901\n",
      "\n",
      "\n",
      "After filling missing using backward imputation techniques\n",
      "        one       two     three\n",
      "a  0.368294 -0.347815 -0.475783\n",
      "b -0.095318  0.590802  1.026722\n",
      "c -0.095318  0.590802  1.026722\n",
      "d -0.697199  1.215709  0.972456\n",
      "e -0.697199  1.215709  0.972456\n",
      "f -1.107671  0.717278 -1.033439\n",
      "g  0.048772  0.471580  0.177901\n",
      "h  0.048772  0.471580  0.177901\n"
     ]
    }
   ],
   "source": [
    "print(\"Before Filling\")\n",
    "print(df1)\n",
    "print(\"\\n\\nAfter filling missing using backward imputation techniques\")\n",
    "print(df1.fillna(method='bfill'))"
   ]
  },
  {
   "cell_type": "code",
   "execution_count": 32,
   "metadata": {},
   "outputs": [
    {
     "name": "stdout",
     "output_type": "stream",
     "text": [
      "Before Dropping\n",
      "        one       two     three\n",
      "a  0.368294 -0.347815 -0.475783\n",
      "b       NaN       NaN       NaN\n",
      "c -0.095318  0.590802  1.026722\n",
      "d       NaN       NaN       NaN\n",
      "e -0.697199  1.215709  0.972456\n",
      "f -1.107671  0.717278 -1.033439\n",
      "g       NaN       NaN       NaN\n",
      "h  0.048772  0.471580  0.177901\n",
      "\n",
      "\n",
      "After dropping missing using backward imputation techniques\n",
      "        one       two     three\n",
      "a  0.368294 -0.347815 -0.475783\n",
      "b -0.095318  0.590802  1.026722\n",
      "c -0.095318  0.590802  1.026722\n",
      "d -0.697199  1.215709  0.972456\n",
      "e -0.697199  1.215709  0.972456\n",
      "f -1.107671  0.717278 -1.033439\n",
      "g  0.048772  0.471580  0.177901\n",
      "h  0.048772  0.471580  0.177901\n"
     ]
    }
   ],
   "source": [
    "print(\"Before Dropping\")\n",
    "print(df1)\n",
    "print(\"\\n\\nAfter dropping missing using backward imputation techniques\")\n",
    "print(df1.fillna(method='bfill'))"
   ]
  },
  {
   "cell_type": "code",
   "execution_count": 33,
   "metadata": {},
   "outputs": [
    {
     "name": "stdout",
     "output_type": "stream",
     "text": [
      "        one       two     three\n",
      "a -0.125245 -0.782856  0.460490\n",
      "c -0.642572  0.932898 -0.883233\n",
      "e  0.756877 -0.516924 -0.005876\n",
      "f  0.376395 -0.012561 -0.697035\n",
      "h  0.056944 -0.965754  0.147977\n",
      "        one       two     three\n",
      "a -0.125245 -0.782856  0.460490\n",
      "b       NaN       NaN       NaN\n",
      "c -0.642572  0.932898 -0.883233\n",
      "d       NaN       NaN       NaN\n",
      "e  0.756877 -0.516924 -0.005876\n",
      "f  0.376395 -0.012561 -0.697035\n",
      "g       NaN       NaN       NaN\n",
      "h  0.056944 -0.965754  0.147977\n",
      "Drop Missing values using a Dropna function\n",
      "        one       two     three\n",
      "a -0.125245 -0.782856  0.460490\n",
      "c -0.642572  0.932898 -0.883233\n",
      "e  0.756877 -0.516924 -0.005876\n",
      "f  0.376395 -0.012561 -0.697035\n",
      "h  0.056944 -0.965754  0.147977\n"
     ]
    }
   ],
   "source": [
    "df=pd.DataFrame(np.random.randn(5,3),index=['a','c','e','f','h'],columns=['one','two','three'])\n",
    "print(df)\n",
    "df1=df.reindex(['a','b','c','d','e','f','g','h'])\n",
    "print(df1)\n",
    "print(\"Drop Missing values using a Dropna function\")\n",
    "print(df1.dropna())"
   ]
  },
  {
   "cell_type": "code",
   "execution_count": 34,
   "metadata": {},
   "outputs": [
    {
     "name": "stdout",
     "output_type": "stream",
     "text": [
      "    one   two\n",
      "0    10  1000\n",
      "1    20     0\n",
      "2    30    30\n",
      "3    40    40\n",
      "4    50    50\n",
      "5  2000    60\n",
      "   one  two\n",
      "0   10   10\n",
      "1   20    0\n",
      "2   30   30\n",
      "3   40   40\n",
      "4   50   50\n",
      "5   60   60\n"
     ]
    }
   ],
   "source": [
    "df=pd.DataFrame({'one':[10,20,30,40,50,2000],'two':[1000,0,30,40,50,60]})\n",
    "print(df)\n",
    "print(df.replace({1000:10,2000:60}))"
   ]
  },
  {
   "cell_type": "code",
   "execution_count": 35,
   "metadata": {},
   "outputs": [
    {
     "name": "stdout",
     "output_type": "stream",
     "text": [
      "<class 'pandas.core.frame.DataFrame'>\n",
      "RangeIndex: 891 entries, 0 to 890\n",
      "Data columns (total 12 columns):\n",
      " #   Column       Non-Null Count  Dtype  \n",
      "---  ------       --------------  -----  \n",
      " 0   PassengerId  891 non-null    int64  \n",
      " 1   Survived     891 non-null    int64  \n",
      " 2   Pclass       891 non-null    int64  \n",
      " 3   Name         891 non-null    object \n",
      " 4   Sex          891 non-null    object \n",
      " 5   Age          714 non-null    float64\n",
      " 6   SibSp        891 non-null    int64  \n",
      " 7   Parch        891 non-null    int64  \n",
      " 8   Ticket       891 non-null    object \n",
      " 9   Fare         891 non-null    float64\n",
      " 10  Cabin        204 non-null    object \n",
      " 11  Embarked     889 non-null    object \n",
      "dtypes: float64(2), int64(5), object(5)\n",
      "memory usage: 83.7+ KB\n"
     ]
    }
   ],
   "source": [
    "df=pd.read_csv(\"titanic.csv\")\n",
    "df.info()"
   ]
  },
  {
   "cell_type": "code",
   "execution_count": 36,
   "metadata": {},
   "outputs": [
    {
     "name": "stdout",
     "output_type": "stream",
     "text": [
      "<class 'pandas.core.frame.DataFrame'>\n",
      "RangeIndex: 891 entries, 0 to 890\n",
      "Data columns (total 9 columns):\n",
      " #   Column       Non-Null Count  Dtype  \n",
      "---  ------       --------------  -----  \n",
      " 0   PassengerId  891 non-null    int64  \n",
      " 1   Survived     891 non-null    int64  \n",
      " 2   Pclass       891 non-null    int64  \n",
      " 3   Sex          891 non-null    object \n",
      " 4   Age          714 non-null    float64\n",
      " 5   SibSp        891 non-null    int64  \n",
      " 6   Parch        891 non-null    int64  \n",
      " 7   Fare         891 non-null    float64\n",
      " 8   Embarked     889 non-null    object \n",
      "dtypes: float64(2), int64(5), object(2)\n",
      "memory usage: 62.8+ KB\n"
     ]
    }
   ],
   "source": [
    "cols=['Name','Ticket','Cabin']\n",
    "df=df.drop(cols,axis=1)\n",
    "df.info()"
   ]
  },
  {
   "cell_type": "code",
   "execution_count": 37,
   "metadata": {},
   "outputs": [
    {
     "name": "stdout",
     "output_type": "stream",
     "text": [
      "<class 'pandas.core.frame.DataFrame'>\n",
      "Index: 712 entries, 0 to 890\n",
      "Data columns (total 9 columns):\n",
      " #   Column       Non-Null Count  Dtype  \n",
      "---  ------       --------------  -----  \n",
      " 0   PassengerId  712 non-null    int64  \n",
      " 1   Survived     712 non-null    int64  \n",
      " 2   Pclass       712 non-null    int64  \n",
      " 3   Sex          712 non-null    object \n",
      " 4   Age          712 non-null    float64\n",
      " 5   SibSp        712 non-null    int64  \n",
      " 6   Parch        712 non-null    int64  \n",
      " 7   Fare         712 non-null    float64\n",
      " 8   Embarked     712 non-null    object \n",
      "dtypes: float64(2), int64(5), object(2)\n",
      "memory usage: 55.6+ KB\n"
     ]
    }
   ],
   "source": [
    "df=df.dropna()\n",
    "df.info()"
   ]
  },
  {
   "cell_type": "code",
   "execution_count": 38,
   "metadata": {},
   "outputs": [],
   "source": [
    "dummies=[]\n",
    "cols=['Pclass','Sex','Embarked']\n",
    "for col in cols:\n",
    "    dummies.append(pd.get_dummies(df[col]))"
   ]
  },
  {
   "cell_type": "code",
   "execution_count": 39,
   "metadata": {},
   "outputs": [],
   "source": [
    "titanic_dummies=pd.concat(dummies,axis=1)\n",
    "df=pd.concat((df,titanic_dummies),axis=1)"
   ]
  },
  {
   "cell_type": "code",
   "execution_count": 40,
   "metadata": {},
   "outputs": [],
   "source": [
    "df=df.drop(['Pclass','Sex','Embarked'],axis=1)"
   ]
  },
  {
   "cell_type": "code",
   "execution_count": 41,
   "metadata": {},
   "outputs": [
    {
     "name": "stdout",
     "output_type": "stream",
     "text": [
      "     PassengerId  Survived   Age  SibSp  Parch     Fare      1      2      3  \\\n",
      "0              1         0  22.0      1      0   7.2500  False  False   True   \n",
      "1              2         1  38.0      1      0  71.2833   True  False  False   \n",
      "2              3         1  26.0      0      0   7.9250  False  False   True   \n",
      "3              4         1  35.0      1      0  53.1000   True  False  False   \n",
      "4              5         0  35.0      0      0   8.0500  False  False   True   \n",
      "..           ...       ...   ...    ...    ...      ...    ...    ...    ...   \n",
      "885          886         0  39.0      0      5  29.1250  False  False   True   \n",
      "886          887         0  27.0      0      0  13.0000  False   True  False   \n",
      "887          888         1  19.0      0      0  30.0000   True  False  False   \n",
      "889          890         1  26.0      0      0  30.0000   True  False  False   \n",
      "890          891         0  32.0      0      0   7.7500  False  False   True   \n",
      "\n",
      "     female   male      C      Q      S  \n",
      "0     False   True  False  False   True  \n",
      "1      True  False   True  False  False  \n",
      "2      True  False  False  False   True  \n",
      "3      True  False  False  False   True  \n",
      "4     False   True  False  False   True  \n",
      "..      ...    ...    ...    ...    ...  \n",
      "885    True  False  False   True  False  \n",
      "886   False   True  False  False   True  \n",
      "887    True  False  False  False   True  \n",
      "889   False   True   True  False  False  \n",
      "890   False   True  False   True  False  \n",
      "\n",
      "[712 rows x 14 columns]\n"
     ]
    }
   ],
   "source": [
    "df['Age']=df['Age'].interpolate()\n",
    "print(df)"
   ]
  },
  {
   "cell_type": "code",
   "execution_count": 42,
   "metadata": {},
   "outputs": [
    {
     "name": "stdout",
     "output_type": "stream",
     "text": [
      "0      False\n",
      "1      False\n",
      "2      False\n",
      "3      False\n",
      "4      False\n",
      "       ...  \n",
      "885    False\n",
      "886    False\n",
      "887    False\n",
      "889    False\n",
      "890    False\n",
      "Name: Age, Length: 712, dtype: bool\n"
     ]
    }
   ],
   "source": [
    "print(df['Age'].isnull())"
   ]
  },
  {
   "cell_type": "code",
   "execution_count": 43,
   "metadata": {},
   "outputs": [
    {
     "name": "stdout",
     "output_type": "stream",
     "text": [
      "     PassengerId  Survived   Age  SibSp  Parch     Fare      1      2      3  \\\n",
      "0              1         0  22.0      1      0   7.2500  False  False   True   \n",
      "1              2         1  38.0      1      0  71.2833   True  False  False   \n",
      "2              3         1  26.0      0      0   7.9250  False  False   True   \n",
      "3              4         1  35.0      1      0  53.1000   True  False  False   \n",
      "4              5         0  35.0      0      0   8.0500  False  False   True   \n",
      "..           ...       ...   ...    ...    ...      ...    ...    ...    ...   \n",
      "885          886         0  39.0      0      5  29.1250  False  False   True   \n",
      "886          887         0  27.0      0      0  13.0000  False   True  False   \n",
      "887          888         1  19.0      0      0  30.0000   True  False  False   \n",
      "889          890         1  26.0      0      0  30.0000   True  False  False   \n",
      "890          891         0  32.0      0      0   7.7500  False  False   True   \n",
      "\n",
      "     female   male      C      Q      S  \n",
      "0     False   True  False  False   True  \n",
      "1      True  False   True  False  False  \n",
      "2      True  False  False  False   True  \n",
      "3      True  False  False  False   True  \n",
      "4     False   True  False  False   True  \n",
      "..      ...    ...    ...    ...    ...  \n",
      "885    True  False  False   True  False  \n",
      "886   False   True  False  False   True  \n",
      "887    True  False  False  False   True  \n",
      "889   False   True   True  False  False  \n",
      "890   False   True  False   True  False  \n",
      "\n",
      "[712 rows x 14 columns]\n"
     ]
    }
   ],
   "source": [
    "df['Age']=df['Age'].interpolate()\n",
    "print(df)"
   ]
  },
  {
   "cell_type": "code",
   "execution_count": 45,
   "metadata": {},
   "outputs": [
    {
     "name": "stdout",
     "output_type": "stream",
     "text": [
      "MinMaxScaler()\n",
      "[ 1. 18.]\n",
      "[[0.   0.  ]\n",
      " [0.25 0.25]\n",
      " [0.5  0.5 ]\n",
      " [1.   1.  ]]\n"
     ]
    }
   ],
   "source": [
    "from sklearn.preprocessing import MinMaxScaler\n",
    "data=[[-1,2],[-0.5,6],[0,10],[1,18]]\n",
    "scaler=MinMaxScaler()\n",
    "print(scaler.fit(data))\n",
    "MinMaxScaler()\n",
    "print(scaler.data_max_)\n",
    "print(scaler.transform(data))"
   ]
  },
  {
   "cell_type": "code",
   "execution_count": 4,
   "metadata": {},
   "outputs": [
    {
     "name": "stdout",
     "output_type": "stream",
     "text": [
      "[[1.0e+02 1.0e-03]\n",
      " [8.0e+00 5.0e-02]\n",
      " [5.0e+01 5.0e-03]\n",
      " [8.8e+01 7.0e-02]\n",
      " [4.0e+00 1.0e-01]]\n",
      "[[ 1.26398112 -1.16389967]\n",
      " [-1.06174414  0.12639634]\n",
      " [ 0.         -1.05856939]\n",
      " [ 0.96062565  0.65304778]\n",
      " [-1.16286263  1.44302493]]\n"
     ]
    }
   ],
   "source": [
    "from numpy import asarray\n",
    "from sklearn.preprocessing import StandardScaler\n",
    "data=asarray(([100,0.001],[8,0.05],[50,0.005],[88,0.07],[4,0.1]))\n",
    "print(data)\n",
    "#define standard scaler\n",
    "scaler=StandardScaler()\n",
    "#transform data\n",
    "scaled=scaler.fit_transform(data)\n",
    "print(scaled)"
   ]
  }
 ],
 "metadata": {
  "kernelspec": {
   "display_name": "Python 3",
   "language": "python",
   "name": "python3"
  },
  "language_info": {
   "codemirror_mode": {
    "name": "ipython",
    "version": 3
   },
   "file_extension": ".py",
   "mimetype": "text/x-python",
   "name": "python",
   "nbconvert_exporter": "python",
   "pygments_lexer": "ipython3",
   "version": "3.10.8"
  }
 },
 "nbformat": 4,
 "nbformat_minor": 2
}
