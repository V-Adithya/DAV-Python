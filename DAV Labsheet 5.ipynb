{
 "cells": [
  {
   "cell_type": "markdown",
   "metadata": {},
   "source": [
    "Creating a Dataframe"
   ]
  },
  {
   "cell_type": "code",
   "execution_count": 27,
   "metadata": {},
   "outputs": [
    {
     "name": "stdout",
     "output_type": "stream",
     "text": [
      "        one       two     three\n",
      "a -0.441065  1.583862 -0.951895\n",
      "c  0.091279  0.598208 -0.656088\n",
      "e  1.168504  1.350918 -0.981014\n",
      "f -0.693534  0.105641  0.022422\n",
      "h  0.751988  0.998081 -0.370195\n"
     ]
    }
   ],
   "source": [
    "import pandas as pd\n",
    "import numpy as np\n",
    "df=pd.DataFrame(np.random.randn(5,3),index=['a','c','e','f','h'],columns=['one','two','three'])\n",
    "df1=df.reindex(['a','b','c','d','e','f','g','h'])                                                                  \n",
    "print(df)                                                                        "
   ]
  },
  {
   "cell_type": "code",
   "execution_count": 28,
   "metadata": {},
   "outputs": [
    {
     "name": "stdout",
     "output_type": "stream",
     "text": [
      "<bound method Series.isnull of a   -0.441065\n",
      "c    0.091279\n",
      "e    1.168504\n",
      "f   -0.693534\n",
      "h    0.751988\n",
      "Name: one, dtype: float64>\n"
     ]
    }
   ],
   "source": [
    "print(df['one'].isnull)"
   ]
  },
  {
   "cell_type": "code",
   "execution_count": 29,
   "metadata": {},
   "outputs": [
    {
     "name": "stdout",
     "output_type": "stream",
     "text": [
      "a    False\n",
      "b     True\n",
      "c    False\n",
      "d     True\n",
      "e    False\n",
      "f    False\n",
      "g     True\n",
      "h    False\n",
      "Name: one, dtype: bool\n",
      "a    False\n",
      "b     True\n",
      "c    False\n",
      "d     True\n",
      "e    False\n",
      "f    False\n",
      "g     True\n",
      "h    False\n",
      "Name: two, dtype: bool\n",
      "a    False\n",
      "b     True\n",
      "c    False\n",
      "d     True\n",
      "e    False\n",
      "f    False\n",
      "g     True\n",
      "h    False\n",
      "Name: three, dtype: bool\n"
     ]
    }
   ],
   "source": [
    "print(df1['one'].isnull())\n",
    "print(df1['two'].isnull())\n",
    "print(df1['three'].isnull())"
   ]
  },
  {
   "cell_type": "code",
   "execution_count": 30,
   "metadata": {},
   "outputs": [
    {
     "name": "stdout",
     "output_type": "stream",
     "text": [
      "        one       two     three\n",
      "a -0.441065  1.583862 -0.951895\n",
      "b       NaN       NaN       NaN\n",
      "c  0.091279  0.598208 -0.656088\n",
      "d       NaN       NaN       NaN\n",
      "e  1.168504  1.350918 -0.981014\n",
      "f -0.693534  0.105641  0.022422\n",
      "g       NaN       NaN       NaN\n",
      "h  0.751988  0.998081 -0.370195\n",
      "\n",
      "\n",
      "NaN is replaced with 0\n",
      "        one       two     three\n",
      "a -0.441065  1.583862 -0.951895\n",
      "b  0.000000  0.000000  0.000000\n",
      "c  0.091279  0.598208 -0.656088\n",
      "d  0.000000  0.000000  0.000000\n",
      "e  1.168504  1.350918 -0.981014\n",
      "f -0.693534  0.105641  0.022422\n",
      "g  0.000000  0.000000  0.000000\n",
      "h  0.751988  0.998081 -0.370195\n"
     ]
    }
   ],
   "source": [
    "print(df1)\n",
    "print(\"\\n\\nNaN is replaced with 0\")\n",
    "print(df1.fillna(0))"
   ]
  },
  {
   "cell_type": "code",
   "execution_count": 31,
   "metadata": {},
   "outputs": [
    {
     "name": "stdout",
     "output_type": "stream",
     "text": [
      "Before Filling\n",
      "        one       two     three\n",
      "a -0.441065  1.583862 -0.951895\n",
      "b       NaN       NaN       NaN\n",
      "c  0.091279  0.598208 -0.656088\n",
      "d       NaN       NaN       NaN\n",
      "e  1.168504  1.350918 -0.981014\n",
      "f -0.693534  0.105641  0.022422\n",
      "g       NaN       NaN       NaN\n",
      "h  0.751988  0.998081 -0.370195\n",
      "\n",
      "\n",
      "After filling missing using pad/forward imputation techniques\n",
      "        one       two     three\n",
      "a -0.441065  1.583862 -0.951895\n",
      "b -0.441065  1.583862 -0.951895\n",
      "c  0.091279  0.598208 -0.656088\n",
      "d  0.091279  0.598208 -0.656088\n",
      "e  1.168504  1.350918 -0.981014\n",
      "f -0.693534  0.105641  0.022422\n",
      "g -0.693534  0.105641  0.022422\n",
      "h  0.751988  0.998081 -0.370195\n"
     ]
    }
   ],
   "source": [
    "print(\"Before Filling\")\n",
    "print(df1)\n",
    "print(\"\\n\\nAfter filling missing using pad/forward imputation techniques\")\n",
    "print(df1.fillna(method='pad'))"
   ]
  },
  {
   "cell_type": "code",
   "execution_count": 32,
   "metadata": {},
   "outputs": [
    {
     "name": "stdout",
     "output_type": "stream",
     "text": [
      "Before Filling\n",
      "        one       two     three\n",
      "a -0.441065  1.583862 -0.951895\n",
      "b       NaN       NaN       NaN\n",
      "c  0.091279  0.598208 -0.656088\n",
      "d       NaN       NaN       NaN\n",
      "e  1.168504  1.350918 -0.981014\n",
      "f -0.693534  0.105641  0.022422\n",
      "g       NaN       NaN       NaN\n",
      "h  0.751988  0.998081 -0.370195\n",
      "\n",
      "\n",
      "After filling missing using backward imputation techniques\n",
      "        one       two     three\n",
      "a -0.441065  1.583862 -0.951895\n",
      "b  0.091279  0.598208 -0.656088\n",
      "c  0.091279  0.598208 -0.656088\n",
      "d  1.168504  1.350918 -0.981014\n",
      "e  1.168504  1.350918 -0.981014\n",
      "f -0.693534  0.105641  0.022422\n",
      "g  0.751988  0.998081 -0.370195\n",
      "h  0.751988  0.998081 -0.370195\n"
     ]
    }
   ],
   "source": [
    "print(\"Before Filling\")\n",
    "print(df1)\n",
    "print(\"\\n\\nAfter filling missing using backward imputation techniques\")\n",
    "print(df1.fillna(method='bfill'))"
   ]
  },
  {
   "cell_type": "code",
   "execution_count": 33,
   "metadata": {},
   "outputs": [
    {
     "name": "stdout",
     "output_type": "stream",
     "text": [
      "Before Dropping\n",
      "        one       two     three\n",
      "a -0.441065  1.583862 -0.951895\n",
      "b       NaN       NaN       NaN\n",
      "c  0.091279  0.598208 -0.656088\n",
      "d       NaN       NaN       NaN\n",
      "e  1.168504  1.350918 -0.981014\n",
      "f -0.693534  0.105641  0.022422\n",
      "g       NaN       NaN       NaN\n",
      "h  0.751988  0.998081 -0.370195\n",
      "\n",
      "\n",
      "After dropping missing using backward imputation techniques\n",
      "        one       two     three\n",
      "a -0.441065  1.583862 -0.951895\n",
      "b  0.091279  0.598208 -0.656088\n",
      "c  0.091279  0.598208 -0.656088\n",
      "d  1.168504  1.350918 -0.981014\n",
      "e  1.168504  1.350918 -0.981014\n",
      "f -0.693534  0.105641  0.022422\n",
      "g  0.751988  0.998081 -0.370195\n",
      "h  0.751988  0.998081 -0.370195\n"
     ]
    }
   ],
   "source": [
    "print(\"Before Dropping\")\n",
    "print(df1)\n",
    "print(\"\\n\\nAfter dropping missing using backward imputation techniques\")\n",
    "print(df1.fillna(method='bfill'))"
   ]
  },
  {
   "cell_type": "code",
   "execution_count": 34,
   "metadata": {},
   "outputs": [
    {
     "name": "stdout",
     "output_type": "stream",
     "text": [
      "        one       two     three\n",
      "a -0.342053 -0.061194  0.222533\n",
      "c  1.273809  0.625180 -0.204809\n",
      "e -1.196766 -1.211466 -0.378198\n",
      "f -1.299117  0.992606 -0.370382\n",
      "h -0.637017  1.101382 -0.004018\n",
      "        one       two     three\n",
      "a -0.342053 -0.061194  0.222533\n",
      "b       NaN       NaN       NaN\n",
      "c  1.273809  0.625180 -0.204809\n",
      "d       NaN       NaN       NaN\n",
      "e -1.196766 -1.211466 -0.378198\n",
      "f -1.299117  0.992606 -0.370382\n",
      "g       NaN       NaN       NaN\n",
      "h -0.637017  1.101382 -0.004018\n",
      "Drop Missing values using a Dropna function\n",
      "        one       two     three\n",
      "a -0.342053 -0.061194  0.222533\n",
      "c  1.273809  0.625180 -0.204809\n",
      "e -1.196766 -1.211466 -0.378198\n",
      "f -1.299117  0.992606 -0.370382\n",
      "h -0.637017  1.101382 -0.004018\n"
     ]
    }
   ],
   "source": [
    "df=pd.DataFrame(np.random.randn(5,3),index=['a','c','e','f','h'],columns=['one','two','three'])\n",
    "print(df)\n",
    "df1=df.reindex(['a','b','c','d','e','f','g','h'])\n",
    "print(df1)\n",
    "print(\"Drop Missing values using a Dropna function\")\n",
    "print(df1.dropna())"
   ]
  },
  {
   "cell_type": "code",
   "execution_count": 35,
   "metadata": {},
   "outputs": [
    {
     "name": "stdout",
     "output_type": "stream",
     "text": [
      "    one   two\n",
      "0    10  1000\n",
      "1    20     0\n",
      "2    30    30\n",
      "3    40    40\n",
      "4    50    50\n",
      "5  2000    60\n",
      "   one  two\n",
      "0   10   10\n",
      "1   20    0\n",
      "2   30   30\n",
      "3   40   40\n",
      "4   50   50\n",
      "5   60   60\n"
     ]
    }
   ],
   "source": [
    "df=pd.DataFrame({'one':[10,20,30,40,50,2000],'two':[1000,0,30,40,50,60]})\n",
    "print(df)\n",
    "print(df.replace({1000:10,2000:60}))"
   ]
  },
  {
   "cell_type": "code",
   "execution_count": 36,
   "metadata": {},
   "outputs": [
    {
     "name": "stdout",
     "output_type": "stream",
     "text": [
      "<class 'pandas.core.frame.DataFrame'>\n",
      "RangeIndex: 891 entries, 0 to 890\n",
      "Data columns (total 12 columns):\n",
      " #   Column       Non-Null Count  Dtype  \n",
      "---  ------       --------------  -----  \n",
      " 0   PassengerId  891 non-null    int64  \n",
      " 1   Survived     891 non-null    int64  \n",
      " 2   Pclass       891 non-null    int64  \n",
      " 3   Name         891 non-null    object \n",
      " 4   Sex          891 non-null    object \n",
      " 5   Age          714 non-null    float64\n",
      " 6   SibSp        891 non-null    int64  \n",
      " 7   Parch        891 non-null    int64  \n",
      " 8   Ticket       891 non-null    object \n",
      " 9   Fare         891 non-null    float64\n",
      " 10  Cabin        204 non-null    object \n",
      " 11  Embarked     889 non-null    object \n",
      "dtypes: float64(2), int64(5), object(5)\n",
      "memory usage: 83.7+ KB\n"
     ]
    }
   ],
   "source": [
    "df=pd.read_csv(\"titanic.csv\")\n",
    "df.info()"
   ]
  },
  {
   "cell_type": "code",
   "execution_count": 37,
   "metadata": {},
   "outputs": [
    {
     "name": "stdout",
     "output_type": "stream",
     "text": [
      "<class 'pandas.core.frame.DataFrame'>\n",
      "RangeIndex: 891 entries, 0 to 890\n",
      "Data columns (total 9 columns):\n",
      " #   Column       Non-Null Count  Dtype  \n",
      "---  ------       --------------  -----  \n",
      " 0   PassengerId  891 non-null    int64  \n",
      " 1   Survived     891 non-null    int64  \n",
      " 2   Pclass       891 non-null    int64  \n",
      " 3   Sex          891 non-null    object \n",
      " 4   Age          714 non-null    float64\n",
      " 5   SibSp        891 non-null    int64  \n",
      " 6   Parch        891 non-null    int64  \n",
      " 7   Fare         891 non-null    float64\n",
      " 8   Embarked     889 non-null    object \n",
      "dtypes: float64(2), int64(5), object(2)\n",
      "memory usage: 62.8+ KB\n"
     ]
    }
   ],
   "source": [
    "cols=['Name','Ticket','Cabin']\n",
    "df=df.drop(cols,axis=1)\n",
    "df.info()"
   ]
  },
  {
   "cell_type": "code",
   "execution_count": 39,
   "metadata": {},
   "outputs": [
    {
     "name": "stdout",
     "output_type": "stream",
     "text": [
      "<class 'pandas.core.frame.DataFrame'>\n",
      "Index: 712 entries, 0 to 890\n",
      "Data columns (total 9 columns):\n",
      " #   Column       Non-Null Count  Dtype  \n",
      "---  ------       --------------  -----  \n",
      " 0   PassengerId  712 non-null    int64  \n",
      " 1   Survived     712 non-null    int64  \n",
      " 2   Pclass       712 non-null    int64  \n",
      " 3   Sex          712 non-null    object \n",
      " 4   Age          712 non-null    float64\n",
      " 5   SibSp        712 non-null    int64  \n",
      " 6   Parch        712 non-null    int64  \n",
      " 7   Fare         712 non-null    float64\n",
      " 8   Embarked     712 non-null    object \n",
      "dtypes: float64(2), int64(5), object(2)\n",
      "memory usage: 55.6+ KB\n"
     ]
    }
   ],
   "source": [
    "df=df.dropna()\n",
    "df.info()"
   ]
  }
 ],
 "metadata": {
  "kernelspec": {
   "display_name": "Python 3",
   "language": "python",
   "name": "python3"
  },
  "language_info": {
   "codemirror_mode": {
    "name": "ipython",
    "version": 3
   },
   "file_extension": ".py",
   "mimetype": "text/x-python",
   "name": "python",
   "nbconvert_exporter": "python",
   "pygments_lexer": "ipython3",
   "version": "3.10.8"
  }
 },
 "nbformat": 4,
 "nbformat_minor": 2
}
