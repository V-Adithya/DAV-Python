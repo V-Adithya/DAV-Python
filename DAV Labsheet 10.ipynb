{
 "cells": [
  {
   "cell_type": "markdown",
   "metadata": {},
   "source": [
    "What is Apriori Algorithm?\n",
    "\n",
    "The Apriori Algorithm is the most common technique for performing market basket analysis. It is used for association rule mining, which is a rule-based process used to idenctify correlations between items purchased by the users"
   ]
  },
  {
   "cell_type": "code",
   "execution_count": null,
   "metadata": {
    "vscode": {
     "languageId": "plaintext"
    }
   },
   "outputs": [],
   "source": [
    "import pandas as pd \n",
    "df=pd.read_csv('Groceries_dataset.csv')"
   ]
  }
 ],
 "metadata": {
  "language_info": {
   "name": "python"
  }
 },
 "nbformat": 4,
 "nbformat_minor": 2
}
